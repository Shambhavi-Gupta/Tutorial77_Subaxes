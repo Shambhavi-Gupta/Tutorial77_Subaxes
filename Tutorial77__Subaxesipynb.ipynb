{
  "nbformat": 4,
  "nbformat_minor": 0,
  "metadata": {
    "colab": {
      "name": "Tutorial77._Subaxesipynb",
      "provenance": [],
      "authorship_tag": "ABX9TyM04wc3ObjvKyD0F1Z34jS5",
      "include_colab_link": true
    },
    "kernelspec": {
      "name": "python3",
      "display_name": "Python 3"
    }
  },
  "cells": [
    {
      "cell_type": "markdown",
      "metadata": {
        "id": "view-in-github",
        "colab_type": "text"
      },
      "source": [
        "<a href=\"https://colab.research.google.com/github/Shambhavi-Gupta/Tutorial77_Subaxes/blob/main/Tutorial77__Subaxesipynb.ipynb\" target=\"_parent\"><img src=\"https://colab.research.google.com/assets/colab-badge.svg\" alt=\"Open In Colab\"/></a>"
      ]
    },
    {
      "cell_type": "code",
      "metadata": {
        "id": "zvEElKQZIuXv"
      },
      "source": [
        "import numpy as np\r\n",
        "#help(np.swapaxes)\r\n",
        "# a = np.array([[1,2],[3,4]])\r\n",
        "# print(a)\r\n",
        "# print(np.swapaxes(a,0,1))\r\n",
        "\r\n",
        "b = np.array([[1,2,3]])\r\n",
        "print(b)\r\n",
        "print(b.shape)\r\n",
        "print(np.swapaxes(b,1,0))\r\n",
        "print(np.swapaxes(b,0,1))"
      ],
      "execution_count": null,
      "outputs": []
    }
  ]
}